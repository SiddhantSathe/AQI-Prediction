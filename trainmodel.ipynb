{
 "cells": [
  {
   "cell_type": "code",
   "execution_count": 1,
   "metadata": {},
   "outputs": [],
   "source": [
    "import mindsdb_sdk\n",
    "import os\n",
    "from dotenv import load_dotenv\n",
    "import ozon3 as ooo"
   ]
  },
  {
   "cell_type": "code",
   "execution_count": 2,
   "metadata": {},
   "outputs": [],
   "source": [
    "load_dotenv()\n",
    "\n",
    "o3 = ooo.Ozon3(os.environ['API_KEY_OOO'])\n",
    "server = mindsdb_sdk.connect()"
   ]
  },
  {
   "cell_type": "code",
   "execution_count": 3,
   "metadata": {},
   "outputs": [],
   "source": [
    "def get_city():\n",
    "    city = 'Mumbai'\n",
    "    return city"
   ]
  },
  {
   "cell_type": "code",
   "execution_count": 7,
   "metadata": {},
   "outputs": [
    {
     "name": "stderr",
     "output_type": "stream",
     "text": [
      "d:\\Siddhant\\Open Source\\AQI Prediction\\venv\\lib\\site-packages\\ozon3\\ozon3.py:572: UserWarning: city_id was not supplied. Searching for \"Mumbai\" yields city ID 7020 with station name \"['Mumbai US Consulate, India']\", with country code \"IN\". Ozon3 will return air quality data from that station. If you know this is not the correct city you intended, you can use get_city_station_options method first to identify the correct city ID.\n",
      "  warnings.warn(\n"
     ]
    },
    {
     "data": {
      "text/html": [
       "<div>\n",
       "<style scoped>\n",
       "    .dataframe tbody tr th:only-of-type {\n",
       "        vertical-align: middle;\n",
       "    }\n",
       "\n",
       "    .dataframe tbody tr th {\n",
       "        vertical-align: top;\n",
       "    }\n",
       "\n",
       "    .dataframe thead th {\n",
       "        text-align: right;\n",
       "    }\n",
       "</style>\n",
       "<table border=\"1\" class=\"dataframe\">\n",
       "  <thead>\n",
       "    <tr style=\"text-align: right;\">\n",
       "      <th></th>\n",
       "      <th>date</th>\n",
       "      <th>pm2.5</th>\n",
       "    </tr>\n",
       "  </thead>\n",
       "  <tbody>\n",
       "    <tr>\n",
       "      <th>0</th>\n",
       "      <td>2024-07-16</td>\n",
       "      <td>58.0</td>\n",
       "    </tr>\n",
       "    <tr>\n",
       "      <th>1</th>\n",
       "      <td>2024-07-15</td>\n",
       "      <td>47.0</td>\n",
       "    </tr>\n",
       "    <tr>\n",
       "      <th>2</th>\n",
       "      <td>2024-07-14</td>\n",
       "      <td>46.0</td>\n",
       "    </tr>\n",
       "    <tr>\n",
       "      <th>3</th>\n",
       "      <td>2024-07-13</td>\n",
       "      <td>59.0</td>\n",
       "    </tr>\n",
       "    <tr>\n",
       "      <th>4</th>\n",
       "      <td>2024-07-12</td>\n",
       "      <td>69.0</td>\n",
       "    </tr>\n",
       "    <tr>\n",
       "      <th>...</th>\n",
       "      <td>...</td>\n",
       "      <td>...</td>\n",
       "    </tr>\n",
       "    <tr>\n",
       "      <th>3501</th>\n",
       "      <td>2014-12-15</td>\n",
       "      <td>139.0</td>\n",
       "    </tr>\n",
       "    <tr>\n",
       "      <th>3502</th>\n",
       "      <td>2014-12-14</td>\n",
       "      <td>147.0</td>\n",
       "    </tr>\n",
       "    <tr>\n",
       "      <th>3503</th>\n",
       "      <td>2014-12-13</td>\n",
       "      <td>184.0</td>\n",
       "    </tr>\n",
       "    <tr>\n",
       "      <th>3504</th>\n",
       "      <td>2014-12-12</td>\n",
       "      <td>191.0</td>\n",
       "    </tr>\n",
       "    <tr>\n",
       "      <th>3505</th>\n",
       "      <td>2014-12-11</td>\n",
       "      <td>181.0</td>\n",
       "    </tr>\n",
       "  </tbody>\n",
       "</table>\n",
       "<p>3506 rows × 2 columns</p>\n",
       "</div>"
      ],
      "text/plain": [
       "           date  pm2.5\n",
       "0    2024-07-16   58.0\n",
       "1    2024-07-15   47.0\n",
       "2    2024-07-14   46.0\n",
       "3    2024-07-13   59.0\n",
       "4    2024-07-12   69.0\n",
       "...         ...    ...\n",
       "3501 2014-12-15  139.0\n",
       "3502 2014-12-14  147.0\n",
       "3503 2014-12-13  184.0\n",
       "3504 2014-12-12  191.0\n",
       "3505 2014-12-11  181.0\n",
       "\n",
       "[3506 rows x 2 columns]"
      ]
     },
     "execution_count": 7,
     "metadata": {},
     "output_type": "execute_result"
    }
   ],
   "source": [
    "def historic_data():\n",
    "    city = get_city()\n",
    "    data = o3.get_historical_data(city)\n",
    "    return data\n",
    "historic_data()"
   ]
  },
  {
   "cell_type": "code",
   "execution_count": 28,
   "metadata": {},
   "outputs": [],
   "source": [
    "try:\n",
    "    project = server.get_project('aqi')\n",
    "except:\n",
    "    project = server.create_project('aqi')"
   ]
  },
  {
   "cell_type": "code",
   "execution_count": 9,
   "metadata": {},
   "outputs": [
    {
     "name": "stderr",
     "output_type": "stream",
     "text": [
      "d:\\Siddhant\\Open Source\\AQI Prediction\\venv\\lib\\site-packages\\ozon3\\ozon3.py:572: UserWarning: city_id was not supplied. Searching for \"Mumbai\" yields city ID 7020 with station name \"['Mumbai US Consulate, India']\", with country code \"IN\". Ozon3 will return air quality data from that station. If you know this is not the correct city you intended, you can use get_city_station_options method first to identify the correct city ID.\n",
      "  warnings.warn(\n"
     ]
    },
    {
     "name": "stdout",
     "output_type": "stream",
     "text": [
      "Data added\n"
     ]
    }
   ],
   "source": [
    "def add_data():\n",
    "    data = historic_data()\n",
    "    try:\n",
    "        files_db = server.get_database('files')\n",
    "        files_db.create_table('mumbai_data', data)\n",
    "        print('Data added')\n",
    "    except:\n",
    "        table = files_db.get_table('mumbai_data')\n",
    "        print('file table already exists')\n",
    "    return table\n",
    "\n",
    "add_data()"
   ]
  },
  {
   "cell_type": "code",
   "execution_count": 23,
   "metadata": {},
   "outputs": [
    {
     "name": "stdout",
     "output_type": "stream",
     "text": [
      "Project exists\n",
      "Model created\n"
     ]
    },
    {
     "data": {
      "text/plain": [
       "Model(city_aqi_forecast_model, status=generating)"
      ]
     },
     "execution_count": 23,
     "metadata": {},
     "output_type": "execute_result"
    }
   ],
   "source": [
    "def create_models():\n",
    "    try:\n",
    "        project = server.get_project('aqi')\n",
    "        print('Project exists')\n",
    "    except:\n",
    "        project = server.create_project('aqi')\n",
    "        print('Project created')\n",
    "\n",
    "    try:\n",
    "        model = project.models.create(\n",
    "    name='city_aqi_forecast_model',\n",
    "    query='SELECT date AS ds, `pm2.5` AS y FROM files.mumbai_data',\n",
    "    predict='y',\n",
    "    timeseries_options={\n",
    "        'order': 'ds',\n",
    "        'horizon': 7\n",
    "    },\n",
    "    engine='timegpt_engine',\n",
    "    timegpt_api_key=os.environ['API_KEY_TIMEGPT']\n",
    ")\n",
    "        print('Model created')\n",
    "    except Exception as e:\n",
    "        model = project.models.get('city_aqi_forecast_model')\n",
    "        print('Model already exists')\n",
    "\n",
    "    return model\n",
    "\n",
    "create_models()"
   ]
  },
  {
   "cell_type": "code",
   "execution_count": 25,
   "metadata": {},
   "outputs": [
    {
     "name": "stdout",
     "output_type": "stream",
     "text": [
      "Project exists\n",
      "Model already exists\n",
      "Error: INTERNAL SERVER ERROR: {\"message\": \"MLEngineException: [timegpt_engine/city_aqi_forecast_model]: KeyError: \\\"['y'] not in index\\\"\"}\n"
     ]
    }
   ],
   "source": [
    "def prediction(project):\n",
    "    model = create_models()\n",
    "    try:\n",
    "        pred = model.predict({\n",
    "            'ds' : '2024-07-15'\n",
    "        })\n",
    "        print('prediction executed:', pred)\n",
    "    except Exception as e:\n",
    "        print('Error:', e)\n",
    "\n",
    "prediction(project)"
   ]
  },
  {
   "cell_type": "code",
   "execution_count": 34,
   "metadata": {},
   "outputs": [
    {
     "name": "stdout",
     "output_type": "stream",
     "text": [
      "                         date  predicted_pm25  actual_pm25\n",
      "0  2024-07-04 00:00:00.000000       57.626740    65.000000\n",
      "1  2024-07-05 00:00:00.000000       55.571793    65.000000\n",
      "2  2024-07-06 00:00:00.000000       56.068810    36.647357\n",
      "3  2024-07-07 00:00:00.000000       55.382233    39.000000\n",
      "4  2024-07-08 00:00:00.000000       51.697842    40.000000\n"
     ]
    }
   ],
   "source": [
    "def get_aqi_predictions(project, limit=10):\n",
    "    query = f\"\"\"\n",
    "    SELECT m.date, m.`pm2.5` AS predicted_pm25, t.`pm2.5` AS actual_pm25 \n",
    "    FROM files.historic_houston t \n",
    "    JOIN aqi_forecast_nixtla m\n",
    "    WHERE t.date > LATEST\n",
    "    LIMIT {limit}\n",
    "    \"\"\"\n",
    "    return project.query(query)\n",
    "\n",
    "project = server.get_project('aqi')\n",
    "\n",
    "results = get_aqi_predictions(project)\n",
    "df = results.fetch()\n",
    "\n",
    "print(df)"
   ]
  },
  {
   "cell_type": "code",
   "execution_count": null,
   "metadata": {},
   "outputs": [],
   "source": [
    "def get_aqi_predictions(project, limit=10):\n",
    "    \n",
    "    query = f\"\"\"\n",
    "    SELECT m.date, m.`pm2.5` AS predicted_pm25, t.`pm2.5` AS actual_pm25 \n",
    "    FROM files.{mumbai_data} t \n",
    "    JOIN aqi_forecast_nixtla m\n",
    "    WHERE t.date > LATEST\n",
    "    LIMIT {limit}\n",
    "    \"\"\"\n",
    "    return project.query(query)\n",
    "\n",
    "project = server.get_project('aqi')\n",
    "\n",
    "results = get_aqi_predictions(project)\n",
    "df = results.fetch()\n",
    "\n",
    "print(df)"
   ]
  }
 ],
 "metadata": {
  "kernelspec": {
   "display_name": "venv",
   "language": "python",
   "name": "python3"
  },
  "language_info": {
   "codemirror_mode": {
    "name": "ipython",
    "version": 3
   },
   "file_extension": ".py",
   "mimetype": "text/x-python",
   "name": "python",
   "nbconvert_exporter": "python",
   "pygments_lexer": "ipython3",
   "version": "3.10.6"
  }
 },
 "nbformat": 4,
 "nbformat_minor": 2
}
