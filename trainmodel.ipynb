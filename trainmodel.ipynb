{
 "cells": [
  {
   "cell_type": "code",
   "execution_count": 1,
   "metadata": {},
   "outputs": [],
   "source": [
    "import mindsdb_sdk\n",
    "import os\n",
    "from dotenv import load_dotenv\n",
    "import ozon3 as ooo"
   ]
  },
  {
   "cell_type": "code",
   "execution_count": 2,
   "metadata": {},
   "outputs": [],
   "source": [
    "load_dotenv()\n",
    "\n",
    "o3 = ooo.Ozon3(os.environ['API_KEY_OOO'])\n",
    "server = mindsdb_sdk.connect()"
   ]
  },
  {
   "cell_type": "code",
   "execution_count": 3,
   "metadata": {},
   "outputs": [],
   "source": [
    "def get_city():\n",
    "    city = 'Mumbai'\n",
    "    return city"
   ]
  },
  {
   "cell_type": "code",
   "execution_count": 42,
   "metadata": {},
   "outputs": [
    {
     "name": "stderr",
     "output_type": "stream",
     "text": [
      "d:\\Siddhant\\Open Source\\AQI Prediction\\venv\\lib\\site-packages\\ozon3\\ozon3.py:572: UserWarning: city_id was not supplied. Searching for \"mumbai\" yields city ID 7020 with station name \"['Mumbai US Consulate, India']\", with country code \"IN\". Ozon3 will return air quality data from that station. If you know this is not the correct city you intended, you can use get_city_station_options method first to identify the correct city ID.\n",
      "  warnings.warn(\n"
     ]
    }
   ],
   "source": [
    "data = o3.get_historical_data(city = 'mumbai')\n",
    "data = data.dropna()"
   ]
  },
  {
   "cell_type": "code",
   "execution_count": 43,
   "metadata": {},
   "outputs": [
    {
     "name": "stderr",
     "output_type": "stream",
     "text": [
      "d:\\Siddhant\\Open Source\\AQI Prediction\\venv\\lib\\site-packages\\ozon3\\ozon3.py:572: UserWarning: city_id was not supplied. Searching for \"Mumbai\" yields city ID 7020 with station name \"['Mumbai US Consulate, India']\", with country code \"IN\". Ozon3 will return air quality data from that station. If you know this is not the correct city you intended, you can use get_city_station_options method first to identify the correct city ID.\n",
      "  warnings.warn(\n"
     ]
    },
    {
     "data": {
      "text/html": [
       "<div>\n",
       "<style scoped>\n",
       "    .dataframe tbody tr th:only-of-type {\n",
       "        vertical-align: middle;\n",
       "    }\n",
       "\n",
       "    .dataframe tbody tr th {\n",
       "        vertical-align: top;\n",
       "    }\n",
       "\n",
       "    .dataframe thead th {\n",
       "        text-align: right;\n",
       "    }\n",
       "</style>\n",
       "<table border=\"1\" class=\"dataframe\">\n",
       "  <thead>\n",
       "    <tr style=\"text-align: right;\">\n",
       "      <th></th>\n",
       "      <th>date</th>\n",
       "      <th>pm2.5</th>\n",
       "    </tr>\n",
       "  </thead>\n",
       "  <tbody>\n",
       "    <tr>\n",
       "      <th>0</th>\n",
       "      <td>2024-07-16</td>\n",
       "      <td>58.0</td>\n",
       "    </tr>\n",
       "    <tr>\n",
       "      <th>1</th>\n",
       "      <td>2024-07-15</td>\n",
       "      <td>47.0</td>\n",
       "    </tr>\n",
       "    <tr>\n",
       "      <th>2</th>\n",
       "      <td>2024-07-14</td>\n",
       "      <td>46.0</td>\n",
       "    </tr>\n",
       "    <tr>\n",
       "      <th>3</th>\n",
       "      <td>2024-07-13</td>\n",
       "      <td>59.0</td>\n",
       "    </tr>\n",
       "    <tr>\n",
       "      <th>4</th>\n",
       "      <td>2024-07-12</td>\n",
       "      <td>69.0</td>\n",
       "    </tr>\n",
       "    <tr>\n",
       "      <th>...</th>\n",
       "      <td>...</td>\n",
       "      <td>...</td>\n",
       "    </tr>\n",
       "    <tr>\n",
       "      <th>3501</th>\n",
       "      <td>2014-12-15</td>\n",
       "      <td>139.0</td>\n",
       "    </tr>\n",
       "    <tr>\n",
       "      <th>3502</th>\n",
       "      <td>2014-12-14</td>\n",
       "      <td>147.0</td>\n",
       "    </tr>\n",
       "    <tr>\n",
       "      <th>3503</th>\n",
       "      <td>2014-12-13</td>\n",
       "      <td>184.0</td>\n",
       "    </tr>\n",
       "    <tr>\n",
       "      <th>3504</th>\n",
       "      <td>2014-12-12</td>\n",
       "      <td>191.0</td>\n",
       "    </tr>\n",
       "    <tr>\n",
       "      <th>3505</th>\n",
       "      <td>2014-12-11</td>\n",
       "      <td>181.0</td>\n",
       "    </tr>\n",
       "  </tbody>\n",
       "</table>\n",
       "<p>3261 rows × 2 columns</p>\n",
       "</div>"
      ],
      "text/plain": [
       "           date  pm2.5\n",
       "0    2024-07-16   58.0\n",
       "1    2024-07-15   47.0\n",
       "2    2024-07-14   46.0\n",
       "3    2024-07-13   59.0\n",
       "4    2024-07-12   69.0\n",
       "...         ...    ...\n",
       "3501 2014-12-15  139.0\n",
       "3502 2014-12-14  147.0\n",
       "3503 2014-12-13  184.0\n",
       "3504 2014-12-12  191.0\n",
       "3505 2014-12-11  181.0\n",
       "\n",
       "[3261 rows x 2 columns]"
      ]
     },
     "execution_count": 43,
     "metadata": {},
     "output_type": "execute_result"
    }
   ],
   "source": [
    "def historic_data():\n",
    "    city = get_city()\n",
    "    data = o3.get_historical_data(city = city)\n",
    "    data = data.dropna()\n",
    "    return data\n",
    "historic_data()"
   ]
  },
  {
   "cell_type": "code",
   "execution_count": 28,
   "metadata": {},
   "outputs": [],
   "source": [
    "try:\n",
    "    project = server.get_project('aqi')\n",
    "except:\n",
    "    project = server.create_project('aqi')"
   ]
  },
  {
   "cell_type": "code",
   "execution_count": 35,
   "metadata": {},
   "outputs": [
    {
     "name": "stderr",
     "output_type": "stream",
     "text": [
      "d:\\Siddhant\\Open Source\\AQI Prediction\\venv\\lib\\site-packages\\ozon3\\ozon3.py:572: UserWarning: city_id was not supplied. Searching for \"Mumbai\" yields city ID 7020 with station name \"['Mumbai US Consulate, India']\", with country code \"IN\". Ozon3 will return air quality data from that station. If you know this is not the correct city you intended, you can use get_city_station_options method first to identify the correct city ID.\n",
      "  warnings.warn(\n"
     ]
    },
    {
     "name": "stdout",
     "output_type": "stream",
     "text": [
      "file table already exists\n"
     ]
    },
    {
     "data": {
      "text/plain": [
       "Table(files.mumbai_data)"
      ]
     },
     "execution_count": 35,
     "metadata": {},
     "output_type": "execute_result"
    }
   ],
   "source": [
    "def add_data():\n",
    "    data = historic_data()\n",
    "    try:\n",
    "        files_db = server.get_database('files')\n",
    "        files_db.create_table('mumbai_data', data)\n",
    "        print('Data added')\n",
    "    except:\n",
    "        table = files_db.get_table('mumbai_data')\n",
    "        print('file table already exists')\n",
    "    return table\n",
    "\n",
    "add_data()"
   ]
  },
  {
   "cell_type": "code",
   "execution_count": 23,
   "metadata": {},
   "outputs": [
    {
     "name": "stdout",
     "output_type": "stream",
     "text": [
      "Project exists\n",
      "Model created\n"
     ]
    },
    {
     "data": {
      "text/plain": [
       "Model(city_aqi_forecast_model, status=generating)"
      ]
     },
     "execution_count": 23,
     "metadata": {},
     "output_type": "execute_result"
    }
   ],
   "source": [
    "def create_models():\n",
    "    try:\n",
    "        project = server.get_project('aqi')\n",
    "        print('Project exists')\n",
    "    except:\n",
    "        project = server.create_project('aqi')\n",
    "        print('Project created')\n",
    "\n",
    "    try:\n",
    "        model = project.models.create(\n",
    "    name='city_aqi_forecast_model',\n",
    "    query='SELECT date AS ds, `pm2.5` AS y FROM files.mumbai_data',\n",
    "    predict='y',\n",
    "    timeseries_options={\n",
    "        'order': 'ds',\n",
    "        'horizon': 7\n",
    "    },\n",
    "    engine='timegpt_engine',\n",
    "    timegpt_api_key=os.environ['API_KEY_TIMEGPT']\n",
    ")\n",
    "        print('Model created')\n",
    "    except Exception as e:\n",
    "        model = project.models.get('city_aqi_forecast_model')\n",
    "        print('Model already exists')\n",
    "\n",
    "    return model\n",
    "\n",
    "create_models()"
   ]
  },
  {
   "cell_type": "code",
   "execution_count": 25,
   "metadata": {},
   "outputs": [
    {
     "name": "stdout",
     "output_type": "stream",
     "text": [
      "Project exists\n",
      "Model already exists\n",
      "Error: INTERNAL SERVER ERROR: {\"message\": \"MLEngineException: [timegpt_engine/city_aqi_forecast_model]: KeyError: \\\"['y'] not in index\\\"\"}\n"
     ]
    }
   ],
   "source": [
    "def prediction(project):\n",
    "    model = create_models()\n",
    "    try:\n",
    "        pred = model.predict({\n",
    "            'ds' : '2024-07-15'\n",
    "        })\n",
    "        print('prediction executed:', pred)\n",
    "    except Exception as e:\n",
    "        print('Error:', e)\n",
    "\n",
    "prediction(project)"
   ]
  },
  {
   "cell_type": "code",
   "execution_count": 62,
   "metadata": {},
   "outputs": [
    {
     "name": "stderr",
     "output_type": "stream",
     "text": [
      "d:\\Siddhant\\Open Source\\AQI Prediction\\venv\\lib\\site-packages\\ozon3\\ozon3.py:572: UserWarning: city_id was not supplied. Searching for \"Houston\" yields city ID 203 with station name \"['Houston Aldine, Houston, Texas']\", with country code \"US\". Ozon3 will return air quality data from that station. If you know this is not the correct city you intended, you can use get_city_station_options method first to identify the correct city ID.\n",
      "  warnings.warn(\n"
     ]
    },
    {
     "name": "stdout",
     "output_type": "stream",
     "text": [
      "file table already exists and error: BAD REQUEST: {\"title\": \"File already exists\", \"detail\": \"File with name 'city_data' already exists\"}\n"
     ]
    }
   ],
   "source": [
    "data = o3.get_historical_data(city='Houston')\n",
    "data = data[['date','pm2.5']]\n",
    "try:\n",
    "    files_db = server.get_database('files')\n",
    "    files_db.create_table('city_data', data)\n",
    "    print('Data added')\n",
    "except Exception as e:\n",
    "    table = files_db.get_table('city_data')\n",
    "    print('file table already exists and error:', e)"
   ]
  },
  {
   "cell_type": "code",
   "execution_count": 60,
   "metadata": {},
   "outputs": [],
   "source": [
    "def create_model():\n",
    "\n",
    "  project = server.get_project('aqi')\n",
    "\n",
    "  model = project.models.create(\n",
    "    name='aqi_forecast_model',\n",
    "    predict='`pm2.5`',\n",
    "    query='SELECT * FROM files.city_data',\n",
    "    timeseries_options={\n",
    "        'order': 'date',\n",
    "        'horizon': 5\n",
    "    },\n",
    "    engine='timegpt',\n",
    "    timegpt_api_key='nixtla-tok-ojwrR4rPpifERgb2RSrCjPx1Io6hh11YOmenD1ulLx8GogNe4AJHFwpK52kKpgMEedK7DcEAn8OlDOYV'\n",
    ")\n",
    "  return model\n"
   ]
  },
  {
   "cell_type": "code",
   "execution_count": 61,
   "metadata": {},
   "outputs": [
    {
     "ename": "RuntimeError",
     "evalue": "[timegpt/aqi_forecast_nixtla]: ValueError: Need at least 3 dates to infer frequency",
     "output_type": "error",
     "traceback": [
      "\u001b[1;31m---------------------------------------------------------------------------\u001b[0m",
      "\u001b[1;31mRuntimeError\u001b[0m                              Traceback (most recent call last)",
      "Cell \u001b[1;32mIn[61], line 14\u001b[0m\n\u001b[0;32m     11\u001b[0m project \u001b[38;5;241m=\u001b[39m server\u001b[38;5;241m.\u001b[39mget_project(\u001b[38;5;124m'\u001b[39m\u001b[38;5;124maqi\u001b[39m\u001b[38;5;124m'\u001b[39m)\n\u001b[0;32m     13\u001b[0m results \u001b[38;5;241m=\u001b[39m get_aqi_predictions(project)\n\u001b[1;32m---> 14\u001b[0m df \u001b[38;5;241m=\u001b[39m \u001b[43mresults\u001b[49m\u001b[38;5;241;43m.\u001b[39;49m\u001b[43mfetch\u001b[49m\u001b[43m(\u001b[49m\u001b[43m)\u001b[49m\n\u001b[0;32m     16\u001b[0m \u001b[38;5;28mprint\u001b[39m(df)\n",
      "File \u001b[1;32md:\\Siddhant\\Open Source\\AQI Prediction\\venv\\lib\\site-packages\\mindsdb_sdk\\query.py:23\u001b[0m, in \u001b[0;36mQuery.fetch\u001b[1;34m(self)\u001b[0m\n\u001b[0;32m     18\u001b[0m \u001b[38;5;28;01mdef\u001b[39;00m \u001b[38;5;21mfetch\u001b[39m(\u001b[38;5;28mself\u001b[39m) \u001b[38;5;241m-\u001b[39m\u001b[38;5;241m>\u001b[39m pd\u001b[38;5;241m.\u001b[39mDataFrame:\n\u001b[0;32m     19\u001b[0m \u001b[38;5;250m    \u001b[39m\u001b[38;5;124;03m\"\"\"\u001b[39;00m\n\u001b[0;32m     20\u001b[0m \u001b[38;5;124;03m    Executes query in mindsdb server and returns result\u001b[39;00m\n\u001b[0;32m     21\u001b[0m \u001b[38;5;124;03m    :return: dataframe with result\u001b[39;00m\n\u001b[0;32m     22\u001b[0m \u001b[38;5;124;03m    \"\"\"\u001b[39;00m\n\u001b[1;32m---> 23\u001b[0m     \u001b[38;5;28;01mreturn\u001b[39;00m \u001b[38;5;28;43mself\u001b[39;49m\u001b[38;5;241;43m.\u001b[39;49m\u001b[43mapi\u001b[49m\u001b[38;5;241;43m.\u001b[39;49m\u001b[43msql_query\u001b[49m\u001b[43m(\u001b[49m\u001b[38;5;28;43mself\u001b[39;49m\u001b[38;5;241;43m.\u001b[39;49m\u001b[43msql\u001b[49m\u001b[43m,\u001b[49m\u001b[43m \u001b[49m\u001b[38;5;28;43mself\u001b[39;49m\u001b[38;5;241;43m.\u001b[39;49m\u001b[43mdatabase\u001b[49m\u001b[43m)\u001b[49m\n",
      "File \u001b[1;32md:\\Siddhant\\Open Source\\AQI Prediction\\venv\\lib\\site-packages\\mindsdb_sdk\\connectors\\rest_api.py:15\u001b[0m, in \u001b[0;36m_try_relogin.<locals>.wrapper\u001b[1;34m(self, *args, **kwargs)\u001b[0m\n\u001b[0;32m     12\u001b[0m \u001b[38;5;129m@wraps\u001b[39m(fnc)\n\u001b[0;32m     13\u001b[0m \u001b[38;5;28;01mdef\u001b[39;00m \u001b[38;5;21mwrapper\u001b[39m(\u001b[38;5;28mself\u001b[39m, \u001b[38;5;241m*\u001b[39margs, \u001b[38;5;241m*\u001b[39m\u001b[38;5;241m*\u001b[39mkwargs):\n\u001b[0;32m     14\u001b[0m     \u001b[38;5;28;01mtry\u001b[39;00m:\n\u001b[1;32m---> 15\u001b[0m         \u001b[38;5;28;01mreturn\u001b[39;00m fnc(\u001b[38;5;28mself\u001b[39m, \u001b[38;5;241m*\u001b[39margs, \u001b[38;5;241m*\u001b[39m\u001b[38;5;241m*\u001b[39mkwargs)\n\u001b[0;32m     16\u001b[0m     \u001b[38;5;28;01mexcept\u001b[39;00m requests\u001b[38;5;241m.\u001b[39mHTTPError \u001b[38;5;28;01mas\u001b[39;00m e:\n\u001b[0;32m     17\u001b[0m         \u001b[38;5;28;01mif\u001b[39;00m e\u001b[38;5;241m.\u001b[39mresponse\u001b[38;5;241m.\u001b[39mstatus_code \u001b[38;5;241m!=\u001b[39m \u001b[38;5;241m401\u001b[39m:\n",
      "File \u001b[1;32md:\\Siddhant\\Open Source\\AQI Prediction\\venv\\lib\\site-packages\\mindsdb_sdk\\connectors\\rest_api.py:98\u001b[0m, in \u001b[0;36mRestAPI.sql_query\u001b[1;34m(self, sql, database, lowercase_columns)\u001b[0m\n\u001b[0;32m     96\u001b[0m     \u001b[38;5;28;01mreturn\u001b[39;00m pd\u001b[38;5;241m.\u001b[39mDataFrame(data[\u001b[38;5;124m'\u001b[39m\u001b[38;5;124mdata\u001b[39m\u001b[38;5;124m'\u001b[39m], columns\u001b[38;5;241m=\u001b[39mcolumns)\n\u001b[0;32m     97\u001b[0m \u001b[38;5;28;01mif\u001b[39;00m data[\u001b[38;5;124m'\u001b[39m\u001b[38;5;124mtype\u001b[39m\u001b[38;5;124m'\u001b[39m] \u001b[38;5;241m==\u001b[39m \u001b[38;5;124m'\u001b[39m\u001b[38;5;124merror\u001b[39m\u001b[38;5;124m'\u001b[39m:\n\u001b[1;32m---> 98\u001b[0m     \u001b[38;5;28;01mraise\u001b[39;00m \u001b[38;5;167;01mRuntimeError\u001b[39;00m(data[\u001b[38;5;124m'\u001b[39m\u001b[38;5;124merror_message\u001b[39m\u001b[38;5;124m'\u001b[39m])\n\u001b[0;32m     99\u001b[0m \u001b[38;5;28;01mreturn\u001b[39;00m \u001b[38;5;28;01mNone\u001b[39;00m\n",
      "\u001b[1;31mRuntimeError\u001b[0m: [timegpt/aqi_forecast_nixtla]: ValueError: Need at least 3 dates to infer frequency"
     ]
    }
   ],
   "source": [
    "def get_aqi_predictions(project, limit=10):\n",
    "    query = f\"\"\"\n",
    "    SELECT m.date, m.`pm2.5` AS predicted_pm25, t.`pm2.5` AS actual_pm25 \n",
    "    FROM files.city_data t \n",
    "    JOIN aqi_forecast_nixtla m\n",
    "    WHERE t.date > LATEST\n",
    "    LIMIT {limit}\n",
    "    \"\"\"\n",
    "    return project.query(query)\n",
    "\n",
    "project = server.get_project('aqi')\n",
    "\n",
    "results = get_aqi_predictions(project)\n",
    "df = results.fetch()\n",
    "\n",
    "print(df)"
   ]
  },
  {
   "cell_type": "code",
   "execution_count": 48,
   "metadata": {},
   "outputs": [
    {
     "name": "stdout",
     "output_type": "stream",
     "text": [
      "                         date  predicted_pm25  actual_pm25\n",
      "0  2024-07-04 00:00:00.000000       57.626740    65.000000\n",
      "1  2024-07-05 00:00:00.000000       55.571793    65.000000\n",
      "2  2024-07-06 00:00:00.000000       56.068810    36.647357\n",
      "3  2024-07-07 00:00:00.000000       55.382233    39.000000\n",
      "4  2024-07-08 00:00:00.000000       51.697842    40.000000\n"
     ]
    }
   ],
   "source": [
    "def get_aqi_predictions(project, limit=10):\n",
    "    query = f\"\"\"\n",
    "    SELECT m.date, m.`pm2.5` AS predicted_pm25, t.`pm2.5` AS actual_pm25 \n",
    "    FROM files.historic_houston t \n",
    "    JOIN aqi_forecast_nixtla m\n",
    "    WHERE t.date > LATEST\n",
    "    LIMIT {limit}\n",
    "    \"\"\"\n",
    "    return project.query(query)\n",
    "\n",
    "project = server.get_project('aqi')\n",
    "\n",
    "results = get_aqi_predictions(project)\n",
    "df = results.fetch()\n",
    "\n",
    "print(df)"
   ]
  },
  {
   "cell_type": "code",
   "execution_count": 50,
   "metadata": {},
   "outputs": [
    {
     "ename": "RuntimeError",
     "evalue": "[timegpt/aqi_forecast_nixtla]: Exception: Your target variable contains NA, please check",
     "output_type": "error",
     "traceback": [
      "\u001b[1;31m---------------------------------------------------------------------------\u001b[0m",
      "\u001b[1;31mRuntimeError\u001b[0m                              Traceback (most recent call last)",
      "Cell \u001b[1;32mIn[50], line 15\u001b[0m\n\u001b[0;32m     12\u001b[0m project \u001b[38;5;241m=\u001b[39m server\u001b[38;5;241m.\u001b[39mget_project(\u001b[38;5;124m'\u001b[39m\u001b[38;5;124maqi\u001b[39m\u001b[38;5;124m'\u001b[39m)\n\u001b[0;32m     14\u001b[0m results \u001b[38;5;241m=\u001b[39m get_aqi_city_predictions(project)\n\u001b[1;32m---> 15\u001b[0m tf \u001b[38;5;241m=\u001b[39m \u001b[43mresults\u001b[49m\u001b[38;5;241;43m.\u001b[39;49m\u001b[43mfetch\u001b[49m\u001b[43m(\u001b[49m\u001b[43m)\u001b[49m\n\u001b[0;32m     17\u001b[0m \u001b[38;5;28mprint\u001b[39m(tf)\n",
      "File \u001b[1;32md:\\Siddhant\\Open Source\\AQI Prediction\\venv\\lib\\site-packages\\mindsdb_sdk\\query.py:23\u001b[0m, in \u001b[0;36mQuery.fetch\u001b[1;34m(self)\u001b[0m\n\u001b[0;32m     18\u001b[0m \u001b[38;5;28;01mdef\u001b[39;00m \u001b[38;5;21mfetch\u001b[39m(\u001b[38;5;28mself\u001b[39m) \u001b[38;5;241m-\u001b[39m\u001b[38;5;241m>\u001b[39m pd\u001b[38;5;241m.\u001b[39mDataFrame:\n\u001b[0;32m     19\u001b[0m \u001b[38;5;250m    \u001b[39m\u001b[38;5;124;03m\"\"\"\u001b[39;00m\n\u001b[0;32m     20\u001b[0m \u001b[38;5;124;03m    Executes query in mindsdb server and returns result\u001b[39;00m\n\u001b[0;32m     21\u001b[0m \u001b[38;5;124;03m    :return: dataframe with result\u001b[39;00m\n\u001b[0;32m     22\u001b[0m \u001b[38;5;124;03m    \"\"\"\u001b[39;00m\n\u001b[1;32m---> 23\u001b[0m     \u001b[38;5;28;01mreturn\u001b[39;00m \u001b[38;5;28;43mself\u001b[39;49m\u001b[38;5;241;43m.\u001b[39;49m\u001b[43mapi\u001b[49m\u001b[38;5;241;43m.\u001b[39;49m\u001b[43msql_query\u001b[49m\u001b[43m(\u001b[49m\u001b[38;5;28;43mself\u001b[39;49m\u001b[38;5;241;43m.\u001b[39;49m\u001b[43msql\u001b[49m\u001b[43m,\u001b[49m\u001b[43m \u001b[49m\u001b[38;5;28;43mself\u001b[39;49m\u001b[38;5;241;43m.\u001b[39;49m\u001b[43mdatabase\u001b[49m\u001b[43m)\u001b[49m\n",
      "File \u001b[1;32md:\\Siddhant\\Open Source\\AQI Prediction\\venv\\lib\\site-packages\\mindsdb_sdk\\connectors\\rest_api.py:15\u001b[0m, in \u001b[0;36m_try_relogin.<locals>.wrapper\u001b[1;34m(self, *args, **kwargs)\u001b[0m\n\u001b[0;32m     12\u001b[0m \u001b[38;5;129m@wraps\u001b[39m(fnc)\n\u001b[0;32m     13\u001b[0m \u001b[38;5;28;01mdef\u001b[39;00m \u001b[38;5;21mwrapper\u001b[39m(\u001b[38;5;28mself\u001b[39m, \u001b[38;5;241m*\u001b[39margs, \u001b[38;5;241m*\u001b[39m\u001b[38;5;241m*\u001b[39mkwargs):\n\u001b[0;32m     14\u001b[0m     \u001b[38;5;28;01mtry\u001b[39;00m:\n\u001b[1;32m---> 15\u001b[0m         \u001b[38;5;28;01mreturn\u001b[39;00m fnc(\u001b[38;5;28mself\u001b[39m, \u001b[38;5;241m*\u001b[39margs, \u001b[38;5;241m*\u001b[39m\u001b[38;5;241m*\u001b[39mkwargs)\n\u001b[0;32m     16\u001b[0m     \u001b[38;5;28;01mexcept\u001b[39;00m requests\u001b[38;5;241m.\u001b[39mHTTPError \u001b[38;5;28;01mas\u001b[39;00m e:\n\u001b[0;32m     17\u001b[0m         \u001b[38;5;28;01mif\u001b[39;00m e\u001b[38;5;241m.\u001b[39mresponse\u001b[38;5;241m.\u001b[39mstatus_code \u001b[38;5;241m!=\u001b[39m \u001b[38;5;241m401\u001b[39m:\n",
      "File \u001b[1;32md:\\Siddhant\\Open Source\\AQI Prediction\\venv\\lib\\site-packages\\mindsdb_sdk\\connectors\\rest_api.py:98\u001b[0m, in \u001b[0;36mRestAPI.sql_query\u001b[1;34m(self, sql, database, lowercase_columns)\u001b[0m\n\u001b[0;32m     96\u001b[0m     \u001b[38;5;28;01mreturn\u001b[39;00m pd\u001b[38;5;241m.\u001b[39mDataFrame(data[\u001b[38;5;124m'\u001b[39m\u001b[38;5;124mdata\u001b[39m\u001b[38;5;124m'\u001b[39m], columns\u001b[38;5;241m=\u001b[39mcolumns)\n\u001b[0;32m     97\u001b[0m \u001b[38;5;28;01mif\u001b[39;00m data[\u001b[38;5;124m'\u001b[39m\u001b[38;5;124mtype\u001b[39m\u001b[38;5;124m'\u001b[39m] \u001b[38;5;241m==\u001b[39m \u001b[38;5;124m'\u001b[39m\u001b[38;5;124merror\u001b[39m\u001b[38;5;124m'\u001b[39m:\n\u001b[1;32m---> 98\u001b[0m     \u001b[38;5;28;01mraise\u001b[39;00m \u001b[38;5;167;01mRuntimeError\u001b[39;00m(data[\u001b[38;5;124m'\u001b[39m\u001b[38;5;124merror_message\u001b[39m\u001b[38;5;124m'\u001b[39m])\n\u001b[0;32m     99\u001b[0m \u001b[38;5;28;01mreturn\u001b[39;00m \u001b[38;5;28;01mNone\u001b[39;00m\n",
      "\u001b[1;31mRuntimeError\u001b[0m: [timegpt/aqi_forecast_nixtla]: Exception: Your target variable contains NA, please check"
     ]
    }
   ],
   "source": [
    "def get_aqi_city_predictions(project, limit=10):\n",
    "    \n",
    "    query = f\"\"\"\n",
    "    SELECT m.date, m.`pm2.5` AS predicted_pm25, t.`pm2.5` AS actual_pm25 \n",
    "FROM files.mumbai_data t \n",
    "JOIN aqi_forecast_nixtla m\n",
    "WHERE t.date > LATEST\n",
    "LIMIT 10;\n",
    "    \"\"\"\n",
    "    return project.query(query)\n",
    "\n",
    "project = server.get_project('aqi')\n",
    "\n",
    "results = get_aqi_city_predictions(project)\n",
    "tf = results.fetch()\n",
    "\n",
    "print(tf)"
   ]
  },
  {
   "cell_type": "code",
   "execution_count": 57,
   "metadata": {},
   "outputs": [
    {
     "data": {
      "text/plain": [
       "Model(aqi_forecast_mum, status=generating)"
      ]
     },
     "execution_count": 57,
     "metadata": {},
     "output_type": "execute_result"
    }
   ],
   "source": [
    "def create_model():\n",
    "\n",
    "  project = server.get_project('aqi')\n",
    "\n",
    "  model = project.models.create(\n",
    "    name='aqi_forecast_model',\n",
    "    predict='`pm2.5`',\n",
    "    query='SELECT * FROM files.city_data',\n",
    "    timeseries_options={\n",
    "        'order': 'date',\n",
    "        'horizon': 5\n",
    "    },\n",
    "    engine='timegpt',\n",
    "    timegpt_api_key='nixtla-tok-ojwrR4rPpifERgb2RSrCjPx1Io6hh11YOmenD1ulLx8GogNe4AJHFwpK52kKpgMEedK7DcEAn8OlDOYV'\n",
    ")\n",
    "  return model\n",
    "\n",
    "create_model()"
   ]
  },
  {
   "cell_type": "code",
   "execution_count": 58,
   "metadata": {},
   "outputs": [
    {
     "ename": "RuntimeError",
     "evalue": "[timegpt/aqi_forecast_mum]: Exception: Your target variable contains NA, please check",
     "output_type": "error",
     "traceback": [
      "\u001b[1;31m---------------------------------------------------------------------------\u001b[0m",
      "\u001b[1;31mRuntimeError\u001b[0m                              Traceback (most recent call last)",
      "Cell \u001b[1;32mIn[58], line 10\u001b[0m\n\u001b[0;32m      1\u001b[0m results \u001b[38;5;241m=\u001b[39m project\u001b[38;5;241m.\u001b[39mquery(\u001b[38;5;124m\"\"\"\u001b[39m\n\u001b[0;32m      2\u001b[0m \u001b[38;5;124m    SELECT m.date, m.`pm2.5` AS predicted_pm25, t.`pm2.5` AS actual_pm25 \u001b[39m\n\u001b[0;32m      3\u001b[0m \u001b[38;5;124m    FROM files.mumbai_data t \u001b[39m\n\u001b[1;32m   (...)\u001b[0m\n\u001b[0;32m      6\u001b[0m \u001b[38;5;124m    LIMIT 10\u001b[39m\n\u001b[0;32m      7\u001b[0m \u001b[38;5;124m\"\"\"\u001b[39m)\n\u001b[1;32m---> 10\u001b[0m predictions \u001b[38;5;241m=\u001b[39m \u001b[43mresults\u001b[49m\u001b[38;5;241;43m.\u001b[39;49m\u001b[43mfetch\u001b[49m\u001b[43m(\u001b[49m\u001b[43m)\u001b[49m\n\u001b[0;32m     11\u001b[0m \u001b[38;5;28mprint\u001b[39m(predictions)\n",
      "File \u001b[1;32md:\\Siddhant\\Open Source\\AQI Prediction\\venv\\lib\\site-packages\\mindsdb_sdk\\query.py:23\u001b[0m, in \u001b[0;36mQuery.fetch\u001b[1;34m(self)\u001b[0m\n\u001b[0;32m     18\u001b[0m \u001b[38;5;28;01mdef\u001b[39;00m \u001b[38;5;21mfetch\u001b[39m(\u001b[38;5;28mself\u001b[39m) \u001b[38;5;241m-\u001b[39m\u001b[38;5;241m>\u001b[39m pd\u001b[38;5;241m.\u001b[39mDataFrame:\n\u001b[0;32m     19\u001b[0m \u001b[38;5;250m    \u001b[39m\u001b[38;5;124;03m\"\"\"\u001b[39;00m\n\u001b[0;32m     20\u001b[0m \u001b[38;5;124;03m    Executes query in mindsdb server and returns result\u001b[39;00m\n\u001b[0;32m     21\u001b[0m \u001b[38;5;124;03m    :return: dataframe with result\u001b[39;00m\n\u001b[0;32m     22\u001b[0m \u001b[38;5;124;03m    \"\"\"\u001b[39;00m\n\u001b[1;32m---> 23\u001b[0m     \u001b[38;5;28;01mreturn\u001b[39;00m \u001b[38;5;28;43mself\u001b[39;49m\u001b[38;5;241;43m.\u001b[39;49m\u001b[43mapi\u001b[49m\u001b[38;5;241;43m.\u001b[39;49m\u001b[43msql_query\u001b[49m\u001b[43m(\u001b[49m\u001b[38;5;28;43mself\u001b[39;49m\u001b[38;5;241;43m.\u001b[39;49m\u001b[43msql\u001b[49m\u001b[43m,\u001b[49m\u001b[43m \u001b[49m\u001b[38;5;28;43mself\u001b[39;49m\u001b[38;5;241;43m.\u001b[39;49m\u001b[43mdatabase\u001b[49m\u001b[43m)\u001b[49m\n",
      "File \u001b[1;32md:\\Siddhant\\Open Source\\AQI Prediction\\venv\\lib\\site-packages\\mindsdb_sdk\\connectors\\rest_api.py:15\u001b[0m, in \u001b[0;36m_try_relogin.<locals>.wrapper\u001b[1;34m(self, *args, **kwargs)\u001b[0m\n\u001b[0;32m     12\u001b[0m \u001b[38;5;129m@wraps\u001b[39m(fnc)\n\u001b[0;32m     13\u001b[0m \u001b[38;5;28;01mdef\u001b[39;00m \u001b[38;5;21mwrapper\u001b[39m(\u001b[38;5;28mself\u001b[39m, \u001b[38;5;241m*\u001b[39margs, \u001b[38;5;241m*\u001b[39m\u001b[38;5;241m*\u001b[39mkwargs):\n\u001b[0;32m     14\u001b[0m     \u001b[38;5;28;01mtry\u001b[39;00m:\n\u001b[1;32m---> 15\u001b[0m         \u001b[38;5;28;01mreturn\u001b[39;00m fnc(\u001b[38;5;28mself\u001b[39m, \u001b[38;5;241m*\u001b[39margs, \u001b[38;5;241m*\u001b[39m\u001b[38;5;241m*\u001b[39mkwargs)\n\u001b[0;32m     16\u001b[0m     \u001b[38;5;28;01mexcept\u001b[39;00m requests\u001b[38;5;241m.\u001b[39mHTTPError \u001b[38;5;28;01mas\u001b[39;00m e:\n\u001b[0;32m     17\u001b[0m         \u001b[38;5;28;01mif\u001b[39;00m e\u001b[38;5;241m.\u001b[39mresponse\u001b[38;5;241m.\u001b[39mstatus_code \u001b[38;5;241m!=\u001b[39m \u001b[38;5;241m401\u001b[39m:\n",
      "File \u001b[1;32md:\\Siddhant\\Open Source\\AQI Prediction\\venv\\lib\\site-packages\\mindsdb_sdk\\connectors\\rest_api.py:98\u001b[0m, in \u001b[0;36mRestAPI.sql_query\u001b[1;34m(self, sql, database, lowercase_columns)\u001b[0m\n\u001b[0;32m     96\u001b[0m     \u001b[38;5;28;01mreturn\u001b[39;00m pd\u001b[38;5;241m.\u001b[39mDataFrame(data[\u001b[38;5;124m'\u001b[39m\u001b[38;5;124mdata\u001b[39m\u001b[38;5;124m'\u001b[39m], columns\u001b[38;5;241m=\u001b[39mcolumns)\n\u001b[0;32m     97\u001b[0m \u001b[38;5;28;01mif\u001b[39;00m data[\u001b[38;5;124m'\u001b[39m\u001b[38;5;124mtype\u001b[39m\u001b[38;5;124m'\u001b[39m] \u001b[38;5;241m==\u001b[39m \u001b[38;5;124m'\u001b[39m\u001b[38;5;124merror\u001b[39m\u001b[38;5;124m'\u001b[39m:\n\u001b[1;32m---> 98\u001b[0m     \u001b[38;5;28;01mraise\u001b[39;00m \u001b[38;5;167;01mRuntimeError\u001b[39;00m(data[\u001b[38;5;124m'\u001b[39m\u001b[38;5;124merror_message\u001b[39m\u001b[38;5;124m'\u001b[39m])\n\u001b[0;32m     99\u001b[0m \u001b[38;5;28;01mreturn\u001b[39;00m \u001b[38;5;28;01mNone\u001b[39;00m\n",
      "\u001b[1;31mRuntimeError\u001b[0m: [timegpt/aqi_forecast_mum]: Exception: Your target variable contains NA, please check"
     ]
    }
   ],
   "source": [
    "results = project.query(\"\"\"\n",
    "    SELECT m.date, m.`pm2.5` AS predicted_pm25, t.`pm2.5` AS actual_pm25 \n",
    "    FROM files.mumbai_data t \n",
    "    JOIN aqi_forecast_mum m\n",
    "    WHERE t.date > LATEST\n",
    "    LIMIT 10\n",
    "\"\"\")\n",
    "\n",
    "\n",
    "predictions = results.fetch()\n",
    "print(predictions)"
   ]
  }
 ],
 "metadata": {
  "kernelspec": {
   "display_name": "venv",
   "language": "python",
   "name": "python3"
  },
  "language_info": {
   "codemirror_mode": {
    "name": "ipython",
    "version": 3
   },
   "file_extension": ".py",
   "mimetype": "text/x-python",
   "name": "python",
   "nbconvert_exporter": "python",
   "pygments_lexer": "ipython3",
   "version": "3.10.6"
  }
 },
 "nbformat": 4,
 "nbformat_minor": 2
}
