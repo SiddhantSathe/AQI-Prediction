{
 "cells": [
  {
   "cell_type": "code",
   "execution_count": 3,
   "metadata": {},
   "outputs": [],
   "source": [
    "import pandas as pd\n",
    "import numpy as np\n",
    "import ozon3 as ooo"
   ]
  },
  {
   "cell_type": "markdown",
   "metadata": {},
   "source": [
    "<h3>Steps to get token key ko ozon3 </h3>\n",
    "Visit the Ozon3 website and sign up for an account.</br>\n",
    "Navigate to the API section in your account settings.</br>\n",
    "Generate a new API key and copy it.</br>\n",
    "replace 'API_KEY_OOO' with actuall api key"
   ]
  },
  {
   "cell_type": "code",
   "execution_count": 2,
   "metadata": {},
   "outputs": [],
   "source": [
    "o3 = ooo.Ozon3('API_KEY_OOO')"
   ]
  },
  {
   "cell_type": "code",
   "execution_count": 3,
   "metadata": {},
   "outputs": [],
   "source": [
    "def aqi_city(city):\n",
    "    return o3.get_city_air(city=city)"
   ]
  },
  {
   "cell_type": "code",
   "execution_count": 4,
   "metadata": {},
   "outputs": [],
   "source": [
    "#list of all metro cities in India\n",
    "\n",
    "cities = ['Mumbai', 'Delhi', 'Bangalore', 'Hyderabad', 'Ahmedabad', 'Chennai', 'Kolkata', 'Pune', 'Jaipur', 'Lucknow', 'Kanpur', 'Nagpur', 'Thane', 'Bhopal', 'Patna', 'Vadodara', 'Ghaziabad', 'Ludhiana', 'Agra', 'Nashik', 'Faridabad', 'Meerut', 'Rajkot', 'Kalyan','Dombivali', 'Vasai','Virar', 'Varanasi', 'Srinagar', 'Aurangabad', 'Dhanbad', 'Amritsar', 'Navi Mumbai', 'Allahabad', 'Ranchi', 'Haora', 'Coimbatore', 'Jabalpur', 'Gwalior', 'Vijayawada', 'Jodhpur', 'Madurai', 'Raipur', 'Kota', 'Guwahati', 'Chandigarh', 'Solapur', 'Hubli',' Dharwad', 'Bareilly', 'Moradabad', 'Mysore', 'Gurgaon', 'Aligarh', 'Jalandhar', 'Tiruchirappalli', 'Bhubaneswar', 'Salem', 'Mira','Bhayander', 'Thiruvananthapuram', 'Bhiwandi', 'Saharanpur', 'Gorakhpur', 'Guntur', 'Bikaner', 'Amravati', 'Noida', 'Jamshedpur', 'Bhilai Nagar', 'Warangal', 'Cuttack', 'Firozabad', 'Kochi', 'Bhavnagar', 'Dehradun', 'Durgapur', 'Asansol', 'Nanded Waghala', 'Kolhapur', 'Ajmer', 'Gulbarga', 'Jamnagar', 'Ujjain', 'Loni', 'Siliguri', 'Jhansi', 'Ulhasnagar', 'Nellore', 'Jammu', 'Sangli','Miraj','Kupwad', 'Belgaum', 'Mangalore', 'Ambattur','London','Manchester','Birmingham','Glasgow','Liverpool','Newcastle','Sheffield','Leeds','Bristol','Nottingham','Southampton','Portsmouth','Cardiff','Belfast','Dublin','Cork','Limerick','Galway','Waterford','Derry','Dundalk','Lisburn','Newry','Armagh','Bangor','Bath','Bradford','Brighton','Cambridge','Canterbury','Carlisle','Chester','Chichester','Coventry','Derby','Durham','Ely','Exeter','Gloucester','Hereford','Kingston','Lancaster','Leicester','Lichfield','Lincoln','Londonderry','Oxford','Peterborough','Plymouth','Preston','Ripon','Salford','Salisbury','Sheffield','Stirling','Stoke','Sunderland','Swansea','Truro','Wakefield','Wells','Winchester','Wolverhampton','Worcester','York','Aberdeen','Dundee','Edinburgh','Glasgow','Inverness','Stirling','Aberystwyth','Bangor','Cardiff','Newport','Swansea','St Asaph','St Davids','Belfast','Armagh','Lisburn','Derry','Newry','Cork','Dublin','Galway','Limerick','Waterford','Derry','Dundalk','Lisburn','Newry','Armagh','Bangor','Bath','Bradford','Brighton','Cambridge','Canterbury','Carlisle','Chester','Chichester','Coventry','Derby','Durham','Ely','Exeter','Gloucester','Hereford','Kingston','Lancaster','Leicester','Lichfield','Lincoln','Londonderry','Oxford','Peterborough','Plymouth','Preston','Ripon','Salford','Salisbury','Sheffield','Stirling','Stoke','Sunderland','Swansea','Truro','Wakefield','Wells','Winchester','Wolverhampton','Worcester','York','Aberdeen','Dundee','Edinburgh','Glasgow','Inverness','Stirling','Aberystwyth','Bangor','Cardiff','Newport','Swansea','Belfast']"
   ]
  },
  {
   "cell_type": "code",
   "execution_count": 6,
   "metadata": {},
   "outputs": [
    {
     "data": {
      "text/html": [
       "<div>\n",
       "<style scoped>\n",
       "    .dataframe tbody tr th:only-of-type {\n",
       "        vertical-align: middle;\n",
       "    }\n",
       "\n",
       "    .dataframe tbody tr th {\n",
       "        vertical-align: top;\n",
       "    }\n",
       "\n",
       "    .dataframe thead th {\n",
       "        text-align: right;\n",
       "    }\n",
       "</style>\n",
       "<table border=\"1\" class=\"dataframe\">\n",
       "  <thead>\n",
       "    <tr style=\"text-align: right;\">\n",
       "      <th></th>\n",
       "      <th>city</th>\n",
       "      <th>latitude</th>\n",
       "      <th>longitude</th>\n",
       "      <th>station</th>\n",
       "      <th>dominant_pollutant</th>\n",
       "      <th>timestamp</th>\n",
       "      <th>timestamp_timezone</th>\n",
       "      <th>aqi</th>\n",
       "      <th>AQI_meaning</th>\n",
       "      <th>AQI_health_implications</th>\n",
       "      <th>...</th>\n",
       "      <th>o3</th>\n",
       "      <th>co</th>\n",
       "      <th>no2</th>\n",
       "      <th>so2</th>\n",
       "      <th>dew</th>\n",
       "      <th>h</th>\n",
       "      <th>p</th>\n",
       "      <th>t</th>\n",
       "      <th>w</th>\n",
       "      <th>wg</th>\n",
       "    </tr>\n",
       "  </thead>\n",
       "  <tbody>\n",
       "    <tr>\n",
       "      <th>0</th>\n",
       "      <td>solapur</td>\n",
       "      <td>17.659919</td>\n",
       "      <td>75.906391</td>\n",
       "      <td>Solapur, Solapur, India</td>\n",
       "      <td>pm2.5</td>\n",
       "      <td>2024-07-03 13:00:00</td>\n",
       "      <td>+05:30</td>\n",
       "      <td>79.0</td>\n",
       "      <td>Moderate</td>\n",
       "      <td>Air quality is acceptable; however, for some p...</td>\n",
       "      <td>...</td>\n",
       "      <td>NaN</td>\n",
       "      <td>NaN</td>\n",
       "      <td>20.0</td>\n",
       "      <td>3.5</td>\n",
       "      <td>23.8</td>\n",
       "      <td>65.94</td>\n",
       "      <td>953.77</td>\n",
       "      <td>32.8</td>\n",
       "      <td>0.07</td>\n",
       "      <td>NaN</td>\n",
       "    </tr>\n",
       "  </tbody>\n",
       "</table>\n",
       "<p>1 rows × 22 columns</p>\n",
       "</div>"
      ],
      "text/plain": [
       "      city   latitude  longitude                  station dominant_pollutant  \\\n",
       "0  solapur  17.659919  75.906391  Solapur, Solapur, India              pm2.5   \n",
       "\n",
       "             timestamp timestamp_timezone   aqi AQI_meaning  \\\n",
       "0  2024-07-03 13:00:00             +05:30  79.0    Moderate   \n",
       "\n",
       "                             AQI_health_implications  ...  o3  co   no2  so2  \\\n",
       "0  Air quality is acceptable; however, for some p...  ... NaN NaN  20.0  3.5   \n",
       "\n",
       "    dew      h       p     t     w  wg  \n",
       "0  23.8  65.94  953.77  32.8  0.07 NaN  \n",
       "\n",
       "[1 rows x 22 columns]"
      ]
     },
     "execution_count": 6,
     "metadata": {},
     "output_type": "execute_result"
    }
   ],
   "source": [
    "ip = str(input(\"Enter the city name: \"))\n",
    "aqi_city(ip)"
   ]
  },
  {
   "cell_type": "code",
   "execution_count": 7,
   "metadata": {},
   "outputs": [],
   "source": [
    "ip = str(input(\"Enter the city name: \"))\n",
    "def get_data(ip):\n",
    "    data = aqi_city(ip)\n",
    "    return data"
   ]
  },
  {
   "cell_type": "code",
   "execution_count": null,
   "metadata": {},
   "outputs": [],
   "source": [
    "successful_cities = []\n",
    "for city in cities:\n",
    "    try:\n",
    "        aqi_city(city)\n",
    "        successful_cities.append(city)\n",
    "    except Exception as e:\n",
    "        print(f\"Data not available for {city}: {e}\")\n",
    "\n",
    "cities = successful_cities\n",
    "# Now you can safely use cities list for further processing\n",
    "# o3.get_multiple_city_air(cities=cities)"
   ]
  },
  {
   "cell_type": "code",
   "execution_count": null,
   "metadata": {},
   "outputs": [],
   "source": [
    "citiesdf = o3.get_multiple_city_air(cities=cities)"
   ]
  },
  {
   "cell_type": "code",
   "execution_count": null,
   "metadata": {},
   "outputs": [],
   "source": [
    "citiesdf=citiesdf.iloc[:,: 21]"
   ]
  },
  {
   "cell_type": "markdown",
   "metadata": {},
   "source": [
    "handling missing values"
   ]
  },
  {
   "cell_type": "code",
   "execution_count": null,
   "metadata": {},
   "outputs": [],
   "source": [
    "# Identify numerical columns\n",
    "numerical_cols = citiesdf.select_dtypes(include=['number']).columns\n",
    "\n",
    "# Calculate the mean only for numerical columns\n",
    "mean_values = citiesdf.loc[21, numerical_cols].mean()\n",
    "\n",
    "# Fill NA values only in numerical columns with their mean\n",
    "# handle = citiesdf.loc[21, numerical_cols] = citiesdf.loc[21, numerical_cols].fillna(mean_values)\n",
    "handle = citiesdf\n",
    "# fill nan values with mean of that column\n",
    "handle['w'] = citiesdf['w'].fillna(citiesdf['w'].mean())\n",
    "handle['p'] = citiesdf['p'].fillna(citiesdf['p'].mean())\n",
    "handle['h'] = citiesdf['h'].fillna(citiesdf['h'].mean())\n",
    "handle['so2'] = citiesdf['so2'].fillna(citiesdf['so2'].mean())\n",
    "handle['no2'] = citiesdf['no2'].fillna(citiesdf['no2'].mean())\n",
    "handle['co'] = citiesdf['co'].fillna(citiesdf['co'].mean())\n",
    "handle['o3'] = citiesdf['o3'].fillna(citiesdf['o3'].mean())\n",
    "handle['pm10'] = citiesdf['pm10'].fillna(citiesdf['pm10'].mean())\n",
    "handle['pm2.5'] = citiesdf['pm2.5'].fillna(citiesdf['pm2.5'].mean())\n",
    "handle['aqi'] = citiesdf['aqi'].fillna(citiesdf['aqi'].mean())"
   ]
  },
  {
   "cell_type": "code",
   "execution_count": null,
   "metadata": {},
   "outputs": [],
   "source": [
    "handle.to_csv('handle.csv', index=False)"
   ]
  },
  {
   "cell_type": "code",
   "execution_count": null,
   "metadata": {},
   "outputs": [
    {
     "data": {
      "text/plain": [
       "pandas.core.series.Series"
      ]
     },
     "execution_count": 64,
     "metadata": {},
     "output_type": "execute_result"
    }
   ],
   "source": [
    "# type(handle['timestamp'])\n",
    "data = pd.DataFrame()\n",
    "data['ds'] = pd.to_datetime(handle['timestamp'])\n",
    "type(data['ds'])\n"
   ]
  },
  {
   "cell_type": "code",
   "execution_count": null,
   "metadata": {},
   "outputs": [
    {
     "name": "stdout",
     "output_type": "stream",
     "text": [
      "<class 'pandas.core.frame.DataFrame'>\n",
      "RangeIndex: 180 entries, 0 to 179\n",
      "Data columns (total 2 columns):\n",
      " #   Column  Non-Null Count  Dtype         \n",
      "---  ------  --------------  -----         \n",
      " 0   ds      180 non-null    datetime64[ns]\n",
      " 1   y       180 non-null    float64       \n",
      "dtypes: datetime64[ns](1), float64(1)\n",
      "memory usage: 2.9 KB\n"
     ]
    }
   ],
   "source": [
    "data['y'] = handle['aqi']\n",
    "data.info()"
   ]
  },
  {
   "cell_type": "markdown",
   "metadata": {},
   "source": [
    "till now the dataset included real time data of multiple cities but to train model i will use historic data of only one city"
   ]
  },
  {
   "cell_type": "code",
   "execution_count": 10,
   "metadata": {},
   "outputs": [
    {
     "name": "stderr",
     "output_type": "stream",
     "text": [
      "d:\\Siddhant\\Open Source\\AQI Prediction\\venv\\lib\\site-packages\\ozon3\\ozon3.py:572: UserWarning: city_id was not supplied. Searching for \"Houston\" yields city ID 203 with station name \"['Houston Aldine, Houston, Texas']\", with country code \"US\". Ozon3 will return air quality data from that station. If you know this is not the correct city you intended, you can use get_city_station_options method first to identify the correct city ID.\n",
      "  warnings.warn(\n"
     ]
    }
   ],
   "source": [
    "data_huston = o3.get_historical_data(city='Houston')     # data from 2014 onwards!"
   ]
  },
  {
   "cell_type": "code",
   "execution_count": 11,
   "metadata": {},
   "outputs": [],
   "source": [
    "historical_data = data_huston\n"
   ]
  },
  {
   "cell_type": "code",
   "execution_count": 12,
   "metadata": {},
   "outputs": [
    {
     "data": {
      "text/plain": [
       "date     2019-04-03 00:00:00\n",
       "pm2.5              36.647357\n",
       "o3                 30.385289\n",
       "no2                 5.830966\n",
       "so2                      0.0\n",
       "co                  1.826271\n",
       "dtype: object"
      ]
     },
     "execution_count": 12,
     "metadata": {},
     "output_type": "execute_result"
    }
   ],
   "source": [
    "\n",
    "historical_data.mean()\n"
   ]
  },
  {
   "cell_type": "code",
   "execution_count": 13,
   "metadata": {},
   "outputs": [
    {
     "name": "stdout",
     "output_type": "stream",
     "text": [
      "<class 'pandas.core.frame.DataFrame'>\n",
      "RangeIndex: 3837 entries, 0 to 3836\n",
      "Data columns (total 6 columns):\n",
      " #   Column  Non-Null Count  Dtype         \n",
      "---  ------  --------------  -----         \n",
      " 0   date    3837 non-null   datetime64[ns]\n",
      " 1   pm2.5   3837 non-null   float64       \n",
      " 2   o3      3837 non-null   float64       \n",
      " 3   no2     3837 non-null   float64       \n",
      " 4   so2     3837 non-null   float64       \n",
      " 5   co      3837 non-null   float64       \n",
      "dtypes: datetime64[ns](1), float64(5)\n",
      "memory usage: 180.0 KB\n"
     ]
    }
   ],
   "source": [
    "historical_data = historical_data.fillna(historical_data.mean())\n",
    "\n",
    "historical_data.info()"
   ]
  },
  {
   "cell_type": "code",
   "execution_count": 14,
   "metadata": {},
   "outputs": [],
   "source": [
    "hist = pd.DataFrame()\n",
    "hist['ds'] = pd.to_datetime(historical_data['date'])\n",
    "hist['y'] = historical_data['o3']"
   ]
  },
  {
   "cell_type": "code",
   "execution_count": 15,
   "metadata": {},
   "outputs": [
    {
     "name": "stdout",
     "output_type": "stream",
     "text": [
      "<class 'pandas.core.frame.DataFrame'>\n",
      "RangeIndex: 3837 entries, 0 to 3836\n",
      "Data columns (total 2 columns):\n",
      " #   Column  Non-Null Count  Dtype         \n",
      "---  ------  --------------  -----         \n",
      " 0   ds      3837 non-null   datetime64[ns]\n",
      " 1   y       3837 non-null   float64       \n",
      "dtypes: datetime64[ns](1), float64(1)\n",
      "memory usage: 60.1 KB\n"
     ]
    }
   ],
   "source": [
    "hist.info()"
   ]
  },
  {
   "cell_type": "code",
   "execution_count": 22,
   "metadata": {},
   "outputs": [
    {
     "name": "stdout",
     "output_type": "stream",
     "text": [
      "Overall AQI: 155\n"
     ]
    }
   ],
   "source": [
    "def calculate_aqi(pm25, o3, no2, so2, co):\n",
    "    \"\"\"\n",
    "    Calculates the AQI based on pollutant concentrations.\n",
    "    Args:\n",
    "        pm25 (float): PM2.5 concentration (µg/m³)\n",
    "        o3 (float): Ozone concentration (ppb)\n",
    "        no2 (float): Nitrogen dioxide concentration (ppb)\n",
    "        so2 (float): Sulfur dioxide concentration (ppb)\n",
    "        co (float): Carbon monoxide concentration (ppm)\n",
    "    Returns:\n",
    "        int: Overall AQI value\n",
    "    \"\"\"\n",
    "    # Define AQI breakpoints and corresponding values\n",
    "    breakpoints = [\n",
    "        (0, 12.0, 0, 50),\n",
    "        (12.1, 35.4, 51, 100),\n",
    "        (35.5, 55.4, 101, 150),\n",
    "        (55.5, 150.4, 151, 200),\n",
    "        (150.5, 250.4, 201, 300),\n",
    "        (250.5, 500.4, 301, 500)\n",
    "    ]\n",
    "\n",
    "    def calculate_aqi_component(concentration, breakpoints):\n",
    "        for low, high, aqi_low, aqi_high in breakpoints:\n",
    "            if low <= concentration <= high:\n",
    "                return int((concentration - low) * (aqi_high - aqi_low) / (high - low) + aqi_low)\n",
    "        return None\n",
    "\n",
    "    # Calculate individual AQI components\n",
    "    aqi_pm25 = calculate_aqi_component(pm25, breakpoints)\n",
    "    aqi_o3 = calculate_aqi_component(o3, breakpoints)\n",
    "    aqi_no2 = calculate_aqi_component(no2, breakpoints)\n",
    "    aqi_so2 = calculate_aqi_component(so2, breakpoints)\n",
    "    aqi_co = calculate_aqi_component(co, breakpoints)\n",
    "\n",
    "    # Overall AQI is the maximum of individual AQI values\n",
    "    overall_aqi = max(aqi_pm25, aqi_o3, aqi_no2, aqi_so2, aqi_co)\n",
    "    return overall_aqi\n",
    "\n",
    "# Example usage:\n",
    "pm25_value = 65\n",
    "o3_value = 30.38\n",
    "no2_value = 5.83\n",
    "so2_value = 0\n",
    "co_value = 1.6\n",
    "\n",
    "result_aqi = calculate_aqi(pm25_value, o3_value, no2_value, so2_value, co_value)\n",
    "print(f\"Overall AQI: {result_aqi}\")\n"
   ]
  }
 ],
 "metadata": {
  "kernelspec": {
   "display_name": "venv",
   "language": "python",
   "name": "python3"
  },
  "language_info": {
   "codemirror_mode": {
    "name": "ipython",
    "version": 3
   },
   "file_extension": ".py",
   "mimetype": "text/x-python",
   "name": "python",
   "nbconvert_exporter": "python",
   "pygments_lexer": "ipython3",
   "version": "3.10.6"
  }
 },
 "nbformat": 4,
 "nbformat_minor": 2
}
