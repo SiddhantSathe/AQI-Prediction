{
 "cells": [
  {
   "cell_type": "code",
   "execution_count": 3,
   "metadata": {},
   "outputs": [],
   "source": [
    "import pandas as pd\n",
    "import requests\n",
    "import ozon3 as ooo"
   ]
  },
  {
   "cell_type": "markdown",
   "metadata": {},
   "source": [
    "a7814c89aa2e739b9b06a51ae2dccf6dc9d9ef18\n",
    "token key for ooo (world air quality index)"
   ]
  },
  {
   "cell_type": "code",
   "execution_count": 4,
   "metadata": {},
   "outputs": [],
   "source": [
    "o3 = ooo.Ozon3('a7814c89aa2e739b9b06a51ae2dccf6dc9d9ef18')"
   ]
  },
  {
   "cell_type": "code",
   "execution_count": 23,
   "metadata": {},
   "outputs": [],
   "source": [
    "def aqi_city(city):\n",
    "    return o3.get_city_air(city=city)"
   ]
  },
  {
   "cell_type": "code",
   "execution_count": 16,
   "metadata": {},
   "outputs": [],
   "source": [
    "#list of all metro cities in India\n",
    "\n",
    "cities = ['Mumbai', 'Delhi', 'Bangalore', 'Hyderabad', 'Ahmedabad', 'Chennai', 'Kolkata', 'Pune', 'Jaipur', 'Lucknow', 'Kanpur', 'Nagpur', 'Thane', 'Bhopal', 'Patna', 'Vadodara', 'Ghaziabad', 'Ludhiana', 'Agra', 'Nashik', 'Faridabad', 'Meerut', 'Rajkot', 'Kalyan','Dombivali', 'Vasai','Virar', 'Varanasi', 'Srinagar', 'Aurangabad', 'Dhanbad', 'Amritsar', 'Navi Mumbai', 'Allahabad', 'Ranchi', 'Haora', 'Coimbatore', 'Jabalpur', 'Gwalior', 'Vijayawada', 'Jodhpur', 'Madurai', 'Raipur', 'Kota', 'Guwahati', 'Chandigarh', 'Solapur', 'Hubli',' Dharwad', 'Bareilly', 'Moradabad', 'Mysore', 'Gurgaon', 'Aligarh', 'Jalandhar', 'Tiruchirappalli', 'Bhubaneswar', 'Salem', 'Mira and Bhayander', 'Thiruvananthapuram', 'Bhiwandi', 'Saharanpur', 'Gorakhpur', 'Guntur', 'Bikaner', 'Amravati', 'Noida', 'Jamshedpur', 'Bhilai Nagar', 'Warangal', 'Cuttack', 'Firozabad', 'Kochi', 'Bhavnagar', 'Dehradun', 'Durgapur', 'Asansol', 'Nanded Waghala', 'Kolhapur', 'Ajmer', 'Gulbarga', 'Jamnagar', 'Ujjain', 'Loni', 'Siliguri', 'Jhansi', 'Ulhasnagar', 'Nellore', 'Jammu', 'Sangli','Miraj','Kupwad', 'Belgaum', 'Mangalore', 'Ambattur','London','Manchester','Birmingham','Glasgow','Liverpool','Newcastle','Sheffield','Leeds','Bristol','Nottingham','Southampton','Portsmouth','Cardiff','Belfast','Dublin','Cork','Limerick','Galway','Waterford','Derry','Dundalk','Lisburn','Newry','Armagh','Bangor','Bath','Bradford','Brighton','Cambridge','Canterbury','Carlisle','Chester','Chichester','Coventry','Derby','Durham','Ely','Exeter','Gloucester','Hereford','Kingston','Lancaster','Leicester','Lichfield','Lincoln','Londonderry','Oxford','Peterborough','Plymouth','Preston','Ripon','Salford','Salisbury','Sheffield','Stirling','Stoke','Sunderland','Swansea','Truro','Wakefield','Wells','Winchester','Wolverhampton','Worcester','York','Aberdeen','Dundee','Edinburgh','Glasgow','Inverness','Stirling','Aberystwyth','Bangor','Cardiff','Newport','Swansea','St Asaph','St Davids','Belfast','Armagh','Lisburn','Derry','Newry','Cork','Dublin','Galway','Limerick','Waterford','Derry','Dundalk','Lisburn','Newry','Armagh','Bangor','Bath','Bradford','Brighton','Cambridge','Canterbury','Carlisle','Chester','Chichester','Coventry','Derby','Durham','Ely','Exeter','Gloucester','Hereford','Kingston','Lancaster','Leicester','Lichfield','Lincoln','Londonderry','Oxford','Peterborough','Plymouth','Preston','Ripon','Salford','Salisbury','Sheffield','Stirling','Stoke','Sunderland','Swansea','Truro','Wakefield','Wells','Winchester','Wolverhampton','Worcester','York','Aberdeen','Dundee','Edinburgh','Glasgow','Inverness','Stirling','Aberystwyth','Bangor','Cardiff','Newport','Swansea','Belfast']"
   ]
  },
  {
   "cell_type": "code",
   "execution_count": 48,
   "metadata": {},
   "outputs": [
    {
     "data": {
      "text/html": [
       "<div>\n",
       "<style scoped>\n",
       "    .dataframe tbody tr th:only-of-type {\n",
       "        vertical-align: middle;\n",
       "    }\n",
       "\n",
       "    .dataframe tbody tr th {\n",
       "        vertical-align: top;\n",
       "    }\n",
       "\n",
       "    .dataframe thead th {\n",
       "        text-align: right;\n",
       "    }\n",
       "</style>\n",
       "<table border=\"1\" class=\"dataframe\">\n",
       "  <thead>\n",
       "    <tr style=\"text-align: right;\">\n",
       "      <th></th>\n",
       "      <th>city</th>\n",
       "      <th>latitude</th>\n",
       "      <th>longitude</th>\n",
       "      <th>station</th>\n",
       "      <th>dominant_pollutant</th>\n",
       "      <th>timestamp</th>\n",
       "      <th>timestamp_timezone</th>\n",
       "      <th>aqi</th>\n",
       "      <th>AQI_meaning</th>\n",
       "      <th>AQI_health_implications</th>\n",
       "      <th>...</th>\n",
       "      <th>o3</th>\n",
       "      <th>co</th>\n",
       "      <th>no2</th>\n",
       "      <th>so2</th>\n",
       "      <th>dew</th>\n",
       "      <th>h</th>\n",
       "      <th>p</th>\n",
       "      <th>t</th>\n",
       "      <th>w</th>\n",
       "      <th>wg</th>\n",
       "    </tr>\n",
       "  </thead>\n",
       "  <tbody>\n",
       "    <tr>\n",
       "      <th>0</th>\n",
       "      <td>Solapur</td>\n",
       "      <td>17.659919</td>\n",
       "      <td>75.906391</td>\n",
       "      <td>Solapur, Solapur, India</td>\n",
       "      <td>pm2.5</td>\n",
       "      <td>2024-06-29 11:00:00</td>\n",
       "      <td>+05:30</td>\n",
       "      <td>130.0</td>\n",
       "      <td>Unhealthy for sensitive group</td>\n",
       "      <td>Members of sensitive groups may experience hea...</td>\n",
       "      <td>...</td>\n",
       "      <td>NaN</td>\n",
       "      <td>NaN</td>\n",
       "      <td>20.0</td>\n",
       "      <td>18.8</td>\n",
       "      <td>24.1</td>\n",
       "      <td>71.766667</td>\n",
       "      <td>954.693333</td>\n",
       "      <td>30.923333</td>\n",
       "      <td>0.166667</td>\n",
       "      <td>NaN</td>\n",
       "    </tr>\n",
       "  </tbody>\n",
       "</table>\n",
       "<p>1 rows × 22 columns</p>\n",
       "</div>"
      ],
      "text/plain": [
       "      city   latitude  longitude                  station dominant_pollutant  \\\n",
       "0  Solapur  17.659919  75.906391  Solapur, Solapur, India              pm2.5   \n",
       "\n",
       "             timestamp timestamp_timezone    aqi  \\\n",
       "0  2024-06-29 11:00:00             +05:30  130.0   \n",
       "\n",
       "                     AQI_meaning  \\\n",
       "0  Unhealthy for sensitive group   \n",
       "\n",
       "                             AQI_health_implications  ...  o3  co   no2   so2  \\\n",
       "0  Members of sensitive groups may experience hea...  ... NaN NaN  20.0  18.8   \n",
       "\n",
       "    dew          h           p          t         w  wg  \n",
       "0  24.1  71.766667  954.693333  30.923333  0.166667 NaN  \n",
       "\n",
       "[1 rows x 22 columns]"
      ]
     },
     "execution_count": 48,
     "metadata": {},
     "output_type": "execute_result"
    }
   ],
   "source": [
    "ip = str(input(\"Enter the city name: \"))\n",
    "aqi_city(ip)"
   ]
  },
  {
   "cell_type": "code",
   "execution_count": 54,
   "metadata": {},
   "outputs": [
    {
     "name": "stderr",
     "output_type": "stream",
     "text": [
      "d:\\Siddhant\\Open Source\\AQI Prediction\\venv\\lib\\site-packages\\ozon3\\ozon3.py:572: UserWarning: city_id was not supplied. Searching for \"Houston\" yields city ID 181 with station name \"['Houston East, Houston, Texas']\", with country code \"US\". Ozon3 will return air quality data from that station. If you know this is not the correct city you intended, you can use get_city_station_options method first to identify the correct city ID.\n",
      "  warnings.warn(\n"
     ]
    }
   ],
   "source": [
    "data_huston = o3.get_historical_data(city='Houston')     # data from 2014 onwards!"
   ]
  },
  {
   "cell_type": "code",
   "execution_count": 17,
   "metadata": {},
   "outputs": [
    {
     "name": "stdout",
     "output_type": "stream",
     "text": [
      "Data not available for Vadodara: There is no known AQI station for the given query.\n",
      "city: \"Vadodara\"\n",
      "Data not available for Rajkot: There is no known AQI station for the given query.\n",
      "city: \"Rajkot\"\n",
      "Data not available for Vasai: There is no known AQI station for the given query.\n",
      "city: \"Vasai\"\n",
      "Data not available for Dhanbad: There is no known AQI station for the given query.\n",
      "city: \"Dhanbad\"\n",
      "Data not available for Ranchi: There is no known AQI station for the given query.\n",
      "city: \"Ranchi\"\n",
      "Data not available for Madurai: There is no known AQI station for the given query.\n",
      "city: \"Madurai\"\n",
      "Data not available for  Dharwad: There is no known AQI station for the given query.\n",
      "city: \" Dharwad\"\n",
      "Data not available for Mysore: There is no known AQI station for the given query.\n",
      "city: \"Mysore\"\n",
      "Data not available for Aligarh: There is no known AQI station for the given query.\n",
      "city: \"Aligarh\"\n",
      "Data not available for Tiruchirappalli: There is no known AQI station for the given query.\n",
      "city: \"Tiruchirappalli\"\n",
      "Data not available for Bhubaneswar: There is no known AQI station for the given query.\n",
      "city: \"Bhubaneswar\"\n",
      "Data not available for Mira and Bhayander: There is no known AQI station for the given query.\n",
      "city: \"Mira and Bhayander\"\n",
      "Data not available for Saharanpur: There is no known AQI station for the given query.\n",
      "city: \"Saharanpur\"\n",
      "Data not available for Guntur: There is no known AQI station for the given query.\n",
      "city: \"Guntur\"\n",
      "Data not available for Bikaner: There is no known AQI station for the given query.\n",
      "city: \"Bikaner\"\n",
      "Data not available for Amravati: There is no known AQI station for the given query.\n",
      "city: \"Amravati\"\n",
      "Data not available for Jamshedpur: There is no known AQI station for the given query.\n",
      "city: \"Jamshedpur\"\n",
      "Data not available for Warangal: There is no known AQI station for the given query.\n",
      "city: \"Warangal\"\n",
      "Data not available for Cuttack: There is no known AQI station for the given query.\n",
      "city: \"Cuttack\"\n",
      "Data not available for Bhavnagar: There is no known AQI station for the given query.\n",
      "city: \"Bhavnagar\"\n",
      "Data not available for Nanded Waghala: There is no known AQI station for the given query.\n",
      "city: \"Nanded Waghala\"\n",
      "Data not available for Kolhapur: There is no known AQI station for the given query.\n",
      "city: \"Kolhapur\"\n",
      "Data not available for Jamnagar: There is no known AQI station for the given query.\n",
      "city: \"Jamnagar\"\n",
      "Data not available for Nellore: There is no known AQI station for the given query.\n",
      "city: \"Nellore\"\n",
      "Data not available for Jammu: There is no known AQI station for the given query.\n",
      "city: \"Jammu\"\n",
      "Data not available for Sangli: There is no known AQI station for the given query.\n",
      "city: \"Sangli\"\n",
      "Data not available for Miraj: There is no known AQI station for the given query.\n",
      "city: \"Miraj\"\n",
      "Data not available for Kupwad: There is no known AQI station for the given query.\n",
      "city: \"Kupwad\"\n",
      "Data not available for Armagh: There is no known AQI station for the given query.\n",
      "city: \"Armagh\"\n",
      "Data not available for Bath: There is no known AQI station for the given query.\n",
      "city: \"Bath\"\n",
      "Data not available for Bradford: There is no known AQI station for the given query.\n",
      "city: \"Bradford\"\n",
      "Data not available for Canterbury: There is no known AQI station for the given query.\n",
      "city: \"Canterbury\"\n",
      "Data not available for Chichester: There is no known AQI station for the given query.\n",
      "city: \"Chichester\"\n",
      "Data not available for Ely: There is no known AQI station for the given query.\n",
      "city: \"Ely\"\n",
      "Data not available for Gloucester: There is no known AQI station for the given query.\n",
      "city: \"Gloucester\"\n",
      "Data not available for Hereford: There is no known AQI station for the given query.\n",
      "city: \"Hereford\"\n",
      "Data not available for Lichfield: There is no known AQI station for the given query.\n",
      "city: \"Lichfield\"\n",
      "Data not available for Ripon: There is no known AQI station for the given query.\n",
      "city: \"Ripon\"\n",
      "Data not available for Salisbury: There is no known AQI station for the given query.\n",
      "city: \"Salisbury\"\n",
      "Data not available for Truro: There is no known AQI station for the given query.\n",
      "city: \"Truro\"\n",
      "Data not available for Wells: There is no known AQI station for the given query.\n",
      "city: \"Wells\"\n",
      "Data not available for Wolverhampton: There is no known AQI station for the given query.\n",
      "city: \"Wolverhampton\"\n",
      "Data not available for Aberystwyth: There is no known AQI station for the given query.\n",
      "city: \"Aberystwyth\"\n",
      "Data not available for St Asaph: There is no known AQI station for the given query.\n",
      "city: \"St Asaph\"\n",
      "Data not available for St Davids: There is no known AQI station for the given query.\n",
      "city: \"St Davids\"\n",
      "Data not available for Armagh: There is no known AQI station for the given query.\n",
      "city: \"Armagh\"\n",
      "Data not available for Armagh: There is no known AQI station for the given query.\n",
      "city: \"Armagh\"\n",
      "Data not available for Bath: There is no known AQI station for the given query.\n",
      "city: \"Bath\"\n",
      "Data not available for Bradford: There is no known AQI station for the given query.\n",
      "city: \"Bradford\"\n",
      "Data not available for Canterbury: There is no known AQI station for the given query.\n",
      "city: \"Canterbury\"\n",
      "Data not available for Chichester: There is no known AQI station for the given query.\n",
      "city: \"Chichester\"\n",
      "Data not available for Ely: There is no known AQI station for the given query.\n",
      "city: \"Ely\"\n",
      "Data not available for Gloucester: There is no known AQI station for the given query.\n",
      "city: \"Gloucester\"\n",
      "Data not available for Hereford: There is no known AQI station for the given query.\n",
      "city: \"Hereford\"\n",
      "Data not available for Lichfield: There is no known AQI station for the given query.\n",
      "city: \"Lichfield\"\n",
      "Data not available for Ripon: There is no known AQI station for the given query.\n",
      "city: \"Ripon\"\n",
      "Data not available for Salisbury: There is no known AQI station for the given query.\n",
      "city: \"Salisbury\"\n",
      "Data not available for Truro: There is no known AQI station for the given query.\n",
      "city: \"Truro\"\n",
      "Data not available for Wells: There is no known AQI station for the given query.\n",
      "city: \"Wells\"\n",
      "Data not available for Wolverhampton: There is no known AQI station for the given query.\n",
      "city: \"Wolverhampton\"\n",
      "Data not available for Aberystwyth: There is no known AQI station for the given query.\n",
      "city: \"Aberystwyth\"\n"
     ]
    }
   ],
   "source": [
    "successful_cities = []\n",
    "for city in cities:\n",
    "    try:\n",
    "        aqi_city(city)\n",
    "        successful_cities.append(city)\n",
    "    except Exception as e:\n",
    "        print(f\"Data not available for {city}: {e}\")\n",
    "\n",
    "cities = successful_cities\n",
    "# Now you can safely use cities list for further processing\n",
    "# o3.get_multiple_city_air(cities=cities)"
   ]
  },
  {
   "cell_type": "code",
   "execution_count": 22,
   "metadata": {},
   "outputs": [],
   "source": [
    "citiesdf = o3.get_multiple_city_air(cities=cities)\n"
   ]
  }
 ],
 "metadata": {
  "kernelspec": {
   "display_name": "venv",
   "language": "python",
   "name": "python3"
  },
  "language_info": {
   "codemirror_mode": {
    "name": "ipython",
    "version": 3
   },
   "file_extension": ".py",
   "mimetype": "text/x-python",
   "name": "python",
   "nbconvert_exporter": "python",
   "pygments_lexer": "ipython3",
   "version": "3.10.6"
  }
 },
 "nbformat": 4,
 "nbformat_minor": 2
}
